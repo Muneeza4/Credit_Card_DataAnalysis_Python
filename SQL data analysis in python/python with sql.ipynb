{
 "cells": [
  {
   "cell_type": "code",
   "execution_count": null,
   "id": "acb1cae2",
   "metadata": {},
   "outputs": [],
   "source": [
    "import psycopg2\n",
    "import os\n",
    "import pandas as pd\n",
    "import numpy as np"
   ]
  },
  {
   "cell_type": "code",
   "execution_count": null,
   "id": "809ccfa1",
   "metadata": {},
   "outputs": [],
   "source": [
    "import seaborn as sns\n",
    "import matplotlib.pyplot as plt\n",
    "import plotly.express as px\n",
    "import matplotlib.ticker as mtick"
   ]
  },
  {
   "cell_type": "code",
   "execution_count": null,
   "id": "a58c6048",
   "metadata": {},
   "outputs": [],
   "source": [
    "from sklearn.model_selection import train_test_split\n",
    "from sklearn.ensemble import RandomForestRegressor\n",
    "from sklearn.metrics import mean_squared_error, r2_score\n",
    "from sklearn.preprocessing import StandardScaler\n",
    "from sklearn.compose import ColumnTransformer\n",
    "from sklearn.pipeline import Pipeline\n",
    "from sklearn.impute import SimpleImputer\n",
    "from sklearn.preprocessing import OneHotEncoder"
   ]
  },
  {
   "cell_type": "code",
   "execution_count": null,
   "id": "a1adad5d",
   "metadata": {},
   "outputs": [],
   "source": [
    "# PostgreSQL connection parameters\n",
    "\n",
    "db_params = {\n",
    "    \n",
    "    'host': 'localhost',\n",
    "    'database': 'CC_Analysis',\n",
    "    'user': 'postgres',\n",
    "    'password': 'root'\n",
    "}"
   ]
  },
  {
   "cell_type": "code",
   "execution_count": null,
   "id": "1f9ef089",
   "metadata": {},
   "outputs": [],
   "source": [
    "def fetch_table_data(db_params):\n",
    "    try:\n",
    "        # Connect to the PostgreSQL database\n",
    "        conn = psycopg2.connect(**db_params)\n",
    "        cur = conn.cursor()\n",
    "        \n",
    "        # Execute a query to fetch data from cc_detail table\n",
    "        cur.execute(\"SELECT * FROM cc_detail\")\n",
    "        \n",
    "        # Fetch all rows from the executed query\n",
    "        rows = cur.fetchall()\n",
    "        \n",
    "        # Constructing a DataFrame\n",
    "        df = pd.DataFrame(rows, columns=[desc[0] for desc in cur.description])\n",
    "        \n",
    "        # Display the data\n",
    "        print(df)\n",
    "        \n",
    "        return df\n",
    "    \n",
    "    except (Exception, psycopg2.Error) as error:\n",
    "        print(\"Error while fetching data from PostgreSQL table:\", error)\n",
    "        return None\n",
    "    \n",
    "    finally:\n",
    "        # Close communication with the PostgreSQL database\n",
    "        if conn:\n",
    "            cur.close()\n",
    "            conn.close()\n",
    "            print(\"Database connection closed\")\n",
    "\n",
    "# Entry point of the script\n",
    "if __name__ == '__main__':\n",
    "    df = fetch_table_data(db_params)"
   ]
  },
  {
   "cell_type": "code",
   "execution_count": null,
   "id": "f9bca671",
   "metadata": {},
   "outputs": [],
   "source": [
    "def fetch_table_data(db_params):\n",
    "    try:\n",
    "        # Connect to the PostgreSQL database\n",
    "        conn = psycopg2.connect(**db_params)\n",
    "        cur = conn.cursor()\n",
    "        \n",
    "        # Execute a query to fetch data from cc_detail table\n",
    "        cur.execute(\"SELECT * FROM cust_detail\")\n",
    "        \n",
    "        # Fetch all rows from the executed query\n",
    "        rows = cur.fetchall()\n",
    "        \n",
    "        # Constructing a DataFrame\n",
    "        df = pd.DataFrame(rows, columns=[desc[0] for desc in cur.description])\n",
    "        \n",
    "        # Display the data\n",
    "        print(df)\n",
    "        \n",
    "        return df\n",
    "    \n",
    "    except (Exception, psycopg2.Error) as error:\n",
    "        print(\"Error while fetching data from PostgreSQL table:\", error)\n",
    "        return None\n",
    "    \n",
    "    finally:\n",
    "        # Close communication with the PostgreSQL database\n",
    "        if conn:\n",
    "            cur.close()\n",
    "            conn.close()\n",
    "            print(\"Database connection closed\")\n",
    "\n",
    "# Entry point of the script\n",
    "if __name__ == '__main__':\n",
    "    df2 = fetch_table_data(db_params)"
   ]
  },
  {
   "cell_type": "code",
   "execution_count": null,
   "id": "9cfc146b",
   "metadata": {},
   "outputs": [],
   "source": [
    "# Merge tables \n",
    "\n",
    "merged_df = pd.merge(df, df2, on = 'client_num')"
   ]
  },
  {
   "cell_type": "code",
   "execution_count": null,
   "id": "af24d6ea",
   "metadata": {},
   "outputs": [],
   "source": [
    "df['interest_earned'] = pd.to_numeric(df['interest_earned'], errors='coerce')\n",
    "\n",
    "# Convert to integer\n",
    "\n",
    "df['interest_earned'] = df['interest_earned'].astype(int)"
   ]
  },
  {
   "cell_type": "code",
   "execution_count": null,
   "id": "6c9c2006",
   "metadata": {},
   "outputs": [],
   "source": [
    "# Bar plot of card categories\n",
    "\n",
    "plt.figure(figsize=(6, 3))\n",
    "sns.countplot(data = merged_df, x='card_category')\n",
    "plt.title('Count of Clients by Card Category')\n",
    "plt.xlabel('Card Category')\n",
    "plt.ylabel('Count')\n",
    "plt.xticks(rotation=45)\n",
    "plt.show()"
   ]
  },
  {
   "cell_type": "code",
   "execution_count": null,
   "id": "02ea3378",
   "metadata": {},
   "outputs": [],
   "source": [
    "# Calculate revenue\n",
    "\n",
    "merged_df['revenue'] = merged_df['annual_fees'] + merged_df['total_trans_amt'] + merged_df['interest_earned']\n",
    "merged_df['revenue'] = merged_df['revenue'].astype(int)"
   ]
  },
  {
   "cell_type": "code",
   "execution_count": null,
   "id": "2467b182",
   "metadata": {},
   "outputs": [],
   "source": [
    "def age_group(age):\n",
    "    \n",
    "    if age < 30:\n",
    "        return \"20-30\"\n",
    "    elif 30 <= age < 40:\n",
    "        return \"30-40\"\n",
    "    elif 40 <= age < 50:\n",
    "        return \"40-50\"\n",
    "    elif 50 <= age < 60:\n",
    "        return \"50-60\"\n",
    "    elif age >= 60:\n",
    "        return \"60+\"\n",
    "\n",
    "# Apply age_group function to create age_group column\n",
    "\n",
    "merged_df['age_group'] = merged_df['customer_age'].apply(age_group)"
   ]
  },
  {
   "cell_type": "code",
   "execution_count": null,
   "id": "c3453957",
   "metadata": {},
   "outputs": [],
   "source": [
    "# Assuming df is your merged DataFrame with 'exp_type' and 'revenue' columns\n",
    "\n",
    "revenue_by_exp_type = merged_df.groupby('exp_type')['revenue'].sum().reset_index()\n",
    "\n",
    "\n",
    "# Plotting the tree map with custom figure size\n",
    "\n",
    "fig = px.treemap(revenue_by_exp_type, path=['exp_type'], values='revenue', \n",
    "                 title='Revenue by Expense Type', hover_data=['revenue'],\n",
    "                 width=600, height=400) \n",
    "\n",
    "fig.show()"
   ]
  },
  {
   "cell_type": "code",
   "execution_count": null,
   "id": "ff9623e6",
   "metadata": {},
   "outputs": [],
   "source": [
    "# 2. Total revenue generated by state_cd\n",
    "\n",
    "total_revenue_by_state = merged_df.groupby('state_cd')['revenue'].sum().reset_index()\n",
    "\n",
    "\n",
    "# Sort by revenue descending and select top 5 states\n",
    "\n",
    "top_5_states = total_revenue_by_state.sort_values(by='revenue', ascending=False).head(5)\n",
    "\n",
    "\n",
    "\n",
    "\n",
    "# Plotting a horizontal bar plot for top 5 states\n",
    "\n",
    "plt.figure(figsize=(6, 3))\n",
    "sns.barplot(x='revenue', y='state_cd', data=top_5_states, palette='Greens')\n",
    "plt.title('Top 5 States by Total Revenue')\n",
    "plt.xlabel('Revenue')\n",
    "plt.ylabel('State')\n",
    "plt.show()"
   ]
  },
  {
   "cell_type": "code",
   "execution_count": null,
   "id": "35224a6b",
   "metadata": {},
   "outputs": [],
   "source": [
    "# Analyze average annual fees by age group\n",
    "\n",
    "avg_annual_fees_by_age = merged_df.groupby('age_group')['annual_fees'].mean()\n",
    "\n",
    "\n",
    "# Visualize results\n",
    "\n",
    "plt.figure(figsize=(6,3))\n",
    "\n",
    "\n",
    "# Plot average annual fees\n",
    "\n",
    "sns.barplot(x = avg_annual_fees_by_age.index, y = avg_annual_fees_by_age.values, palette='Set2')\n",
    "plt.title('Average Annual Fees by Age Group')\n",
    "plt.xlabel('Age Group')\n",
    "plt.ylabel('Average Annual Fees')\n",
    "\n",
    "plt.show()"
   ]
  },
  {
   "cell_type": "code",
   "execution_count": null,
   "id": "4ccc3553",
   "metadata": {},
   "outputs": [],
   "source": [
    "# Analyze most common card category by age group\n",
    "\n",
    "most_common_card_by_age = merged_df.groupby('age_group')['card_category'].agg(lambda x: x.value_counts().idxmax()).reset_index()\n",
    "\n",
    "\n",
    "# Plotting the most common card category\n",
    "\n",
    "plt.figure(figsize=(5, 3))\n",
    "sns.countplot(x='age_group', data = merged_df , hue='card_category', palette='Set2', order=most_common_card_by_age['age_group'])\n",
    "plt.title('Most Common Card Category by Age Group')\n",
    "plt.xlabel('Age Group')\n",
    "plt.ylabel('Count')\n",
    "\n",
    "plt.legend(title='Card Category')\n",
    "plt.tight_layout()\n",
    "plt.show()"
   ]
  },
  {
   "cell_type": "code",
   "execution_count": null,
   "id": "4edcecf2",
   "metadata": {},
   "outputs": [],
   "source": [
    "# Select numeric columns for box plot\n",
    "\n",
    "numeric_data = merged_df[['revenue']]\n",
    "\n",
    "# Create box plot\n",
    "\n",
    "plt.figure(figsize=(5, 4))\n",
    "sns.boxplot(data=numeric_data)\n",
    "plt.title('Boxplot of Income and Customer Age')\n",
    "plt.xlabel('Variable')\n",
    "plt.ylabel('Value')\n",
    "plt.show()"
   ]
  },
  {
   "cell_type": "code",
   "execution_count": null,
   "id": "43591c3c",
   "metadata": {},
   "outputs": [],
   "source": [
    "Q1 = numeric_data.quantile(0.25)\n",
    "Q3 = numeric_data.quantile(0.75)\n",
    "IQR = Q3 - Q1\n",
    "\n",
    "lower_bound = Q1 - 1.5 * IQR\n",
    "upper_bound = Q3 + 1.5 * IQR\n",
    "\n",
    "outliers = ((numeric_data < lower_bound) | (numeric_data > upper_bound)).any(axis=1)\n",
    "clean_data = numeric_data[~outliers]"
   ]
  },
  {
   "cell_type": "code",
   "execution_count": null,
   "id": "63f0d324",
   "metadata": {},
   "outputs": [],
   "source": [
    "plt.figure(figsize=(5, 4))\n",
    "sns.boxplot(data = clean_data)\n",
    "\n",
    "plt.title('Boxplot of Cleaned Numeric Data (IQR Method)')\n",
    "\n",
    "plt.show()"
   ]
  },
  {
   "cell_type": "code",
   "execution_count": null,
   "id": "43e9543e",
   "metadata": {},
   "outputs": [],
   "source": [
    "# Convert week_start_date to datetime\n",
    "\n",
    "merged_df['week_start_date'] = pd.to_datetime(merged_df['week_start_date'])\n",
    "\n",
    "# Set week_start_date as index\n",
    "\n",
    "merged_df.set_index('week_start_date', inplace=True)\n",
    "\n",
    "# Resample to monthly frequency and aggregate revenue\n",
    "\n",
    "monthly_revenue = merged_df['revenue'].resample('M').sum()"
   ]
  },
  {
   "cell_type": "code",
   "execution_count": null,
   "id": "f80621ba",
   "metadata": {},
   "outputs": [],
   "source": [
    "# sns.pairplot(data = df)\n",
    "# plt.show()"
   ]
  },
  {
   "cell_type": "code",
   "execution_count": null,
   "id": "ea00bc48",
   "metadata": {},
   "outputs": [],
   "source": [
    "# Preprocess the data\n",
    "# Selecting relevant columns\n",
    "\n",
    "features = ['customer_age', 'gender', 'customer_job', 'income']\n",
    "target = 'revenue'"
   ]
  },
  {
   "cell_type": "code",
   "execution_count": null,
   "id": "07cc8154",
   "metadata": {},
   "outputs": [],
   "source": [
    "# Handling missing values, encoding categorical variables, and scaling numerical features\n",
    "\n",
    "numeric_features = ['customer_age', 'income']\n",
    "categorical_features = ['gender', 'customer_job']"
   ]
  },
  {
   "cell_type": "code",
   "execution_count": null,
   "id": "0e3021c0",
   "metadata": {},
   "outputs": [],
   "source": [
    "numeric_transformer = Pipeline(steps=[\n",
    "    ('imputer', SimpleImputer(strategy='median')),\n",
    "    ('scaler', StandardScaler())])\n",
    "\n",
    "categorical_transformer = Pipeline(steps=[\n",
    "    ('imputer', SimpleImputer(strategy='constant', fill_value='missing')),\n",
    "    ('onehot', OneHotEncoder(handle_unknown='ignore'))])\n"
   ]
  },
  {
   "cell_type": "code",
   "execution_count": null,
   "id": "3bb76782",
   "metadata": {},
   "outputs": [],
   "source": [
    "preprocessor = ColumnTransformer(\n",
    "    transformers=[\n",
    "        ('num', numeric_transformer, numeric_features),\n",
    "        ('cat', categorical_transformer, categorical_features)])"
   ]
  },
  {
   "cell_type": "code",
   "execution_count": null,
   "id": "ee6c9bf6",
   "metadata": {},
   "outputs": [],
   "source": [
    "# Splitting the data into training and testing sets\n",
    "\n",
    "X = merged_df[features]\n",
    "y = merged_df[target]"
   ]
  },
  {
   "cell_type": "code",
   "execution_count": null,
   "id": "256cb92d",
   "metadata": {},
   "outputs": [],
   "source": [
    "X_train, X_test, y_train, y_test = train_test_split(X, y, test_size=0.2, random_state=42)"
   ]
  },
  {
   "cell_type": "code",
   "execution_count": null,
   "id": "11ea5753",
   "metadata": {},
   "outputs": [],
   "source": [
    "# Creating a pipeline with the preprocessor and the Random Forest Regressor model\n",
    "\n",
    "model = Pipeline(steps=[('preprocessor', preprocessor),\n",
    "                        ('regressor', RandomForestRegressor(n_estimators=100, random_state=42))])"
   ]
  },
  {
   "cell_type": "code",
   "execution_count": null,
   "id": "cafee003",
   "metadata": {},
   "outputs": [],
   "source": [
    "# Training the model\n",
    "\n",
    "model.fit(X_train, y_train)\n",
    "\n",
    "# Making predictions\n",
    "\n",
    "y_pred_train = model.predict(X_train)\n",
    "y_pred_test = model.predict(X_test)"
   ]
  },
  {
   "cell_type": "code",
   "execution_count": null,
   "id": "0b158a54",
   "metadata": {},
   "outputs": [],
   "source": [
    "# Evaluating the model\n",
    "\n",
    "train_rmse = mean_squared_error(y_train, y_pred_train, squared=False)\n",
    "test_rmse = mean_squared_error(y_test, y_pred_test, squared=False)\n",
    "train_r2 = r2_score(y_train, y_pred_train)\n",
    "test_r2 = r2_score(y_test, y_pred_test)\n",
    "\n",
    "# Calculate RMSE as a percentage of the average revenue\n",
    "\n",
    "average_revenue = y_test.mean()\n",
    "train_rmse_percentage = (train_rmse / average_revenue) * 100\n",
    "test_rmse_percentage = (test_rmse / average_revenue) * 100\n",
    "\n",
    "\n",
    "print(f\"Train RMSE: {train_rmse} ({train_rmse_percentage:.2f}%)\")\n",
    "print(f\"Test RMSE: {test_rmse} ({test_rmse_percentage:.2f}%)\")\n",
    "print(f\"Train R^2: {train_r2}\")\n",
    "print(f\"Test R^2: {test_r2}\")"
   ]
  },
  {
   "cell_type": "code",
   "execution_count": null,
   "id": "89be0948",
   "metadata": {},
   "outputs": [],
   "source": [
    "# Function to predict revenue for new customer data\n",
    "\n",
    "def predict_revenue():\n",
    "    \n",
    "    age = int(input(\"Enter customer age: \"))\n",
    "    gender = input(\"Enter customer gender (Male/Female): \")\n",
    "    job = input(\"Enter customer job: \")\n",
    "    income = float(input(\"Enter customer income: \"))\n",
    "    \n",
    "    input_data = pd.DataFrame({'customer_age': [age], 'gender': [gender], 'customer_job': [job], 'income': [income]})\n",
    "    predicted_revenue = model.predict(input_data)[0]\n",
    "    \n",
    "    print(f\"Predicted Revenue: {predicted_revenue}\")\n",
    "\n",
    "# Example usage\n",
    "\n",
    "predict_revenue()"
   ]
  },
  {
   "cell_type": "code",
   "execution_count": null,
   "id": "cf2582a2",
   "metadata": {},
   "outputs": [],
   "source": []
  }
 ],
 "metadata": {
  "kernelspec": {
   "display_name": "Python 3 (ipykernel)",
   "language": "python",
   "name": "python3"
  },
  "language_info": {
   "codemirror_mode": {
    "name": "ipython",
    "version": 3
   },
   "file_extension": ".py",
   "mimetype": "text/x-python",
   "name": "python",
   "nbconvert_exporter": "python",
   "pygments_lexer": "ipython3",
   "version": "3.11.5"
  }
 },
 "nbformat": 4,
 "nbformat_minor": 5
}
